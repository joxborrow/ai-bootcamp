{
 "cells": [
  {
   "cell_type": "markdown",
   "id": "b18e1053",
   "metadata": {},
   "source": [
    "## Vector DBs & Vector Retrievers\n",
    "\n",
    "### Documents\n",
    "\n",
    "LangChain implements a Document abstraction, which is intended to represent a unit of\n",
    "text and associated metadata.\n",
    "\n",
    "- page_content: a string representing content\n",
    "- metadata: a dict containing arbitrary metadata. The metadata attribute can capture\n",
    "  information about the source of the document, its relationship to other documents, and\n",
    "  other information. Note that an individual Document object often represents a chunk of a\n",
    "  larger document.\n",
    "\n",
    "Note: Documents can represent peices of a larger document. Like each document can represent a page"
   ]
  },
  {
   "cell_type": "code",
   "execution_count": 5,
   "id": "9bf16bf6",
   "metadata": {},
   "outputs": [
    {
     "data": {
      "text/plain": [
       "[Document(metadata={'source': 'mammal-pets-doc'}, page_content='Dogs are great companions, known for their loyalty and friendliness.'),\n",
       " Document(metadata={'source': 'mammal-pets-doc'}, page_content='Cats are independent pets that often enjoy their own space.'),\n",
       " Document(metadata={'source': 'fish-pets-doc'}, page_content='Goldfish are popular pets for beginners, requiring relatively simple care.'),\n",
       " Document(metadata={'source': 'bird-pets-doc'}, page_content='Parrots are intelligent birds capable of mimicking human speech.')]"
      ]
     },
     "execution_count": 5,
     "metadata": {},
     "output_type": "execute_result"
    }
   ],
   "source": [
    "from langchain_core.documents import Document\n",
    "\n",
    "documents = [\n",
    "    Document(\n",
    "        page_content=\"Dogs are great companions, known for their loyalty and friendliness.\",\n",
    "        metadata={\"source\": \"mammal-pets-doc\"}\n",
    "    ),\n",
    "    Document(\n",
    "        page_content=\"Cats are independent pets that often enjoy their own space.\",\n",
    "        metadata={\"source\": \"mammal-pets-doc\"},\n",
    "    ),\n",
    "    Document(\n",
    "        page_content=\"Goldfish are popular pets for beginners, requiring relatively simple care.\",\n",
    "        metadata={\"source\": \"fish-pets-doc\"},\n",
    "    ),\n",
    "    Document(\n",
    "        page_content=\"Parrots are intelligent birds capable of mimicking human speech.\",\n",
    "        metadata={\"source\": \"bird-pets-doc\"},\n",
    "    ),\n",
    "    \n",
    "]\n",
    "\n",
    "documents"
   ]
  },
  {
   "cell_type": "code",
   "execution_count": 6,
   "id": "cd78a2a6",
   "metadata": {},
   "outputs": [],
   "source": [
    "# Load environoment variables\n",
    "import os\n",
    "from dotenv import load_dotenv\n",
    "load_dotenv()\n",
    "\n",
    "# Intiailize ChatGroq\n",
    "from langchain_groq import ChatGroq\n",
    "\n",
    "# Initialize environnment variables\n",
    "groq_api_key = os.getenv(\"GROQ_API_KEY\")\n",
    "os.environ[\"HF_TOKEN\"] = os.getenv(\"HF_TOKEN\")\n",
    "\n",
    "# Initialize the llm\n",
    "llm = ChatGroq(groq_api_key=groq_api_key, model=\"Llama3-70B-8192\")\n"
   ]
  },
  {
   "cell_type": "code",
   "execution_count": 7,
   "id": "46023c9e",
   "metadata": {},
   "outputs": [],
   "source": [
    "# Setup the embeddings to use\n",
    "from langchain_huggingface import HuggingFaceEmbeddings\n",
    "embeddings = HuggingFaceEmbeddings(model_name=\"sentence-transformers/all-MiniLM-L6-v2\")"
   ]
  },
  {
   "cell_type": "code",
   "execution_count": null,
   "id": "e0d787d2",
   "metadata": {},
   "outputs": [
    {
     "data": {
      "text/plain": [
       "<langchain_chroma.vectorstores.Chroma at 0x7ec3cd49fa00>"
      ]
     },
     "execution_count": 9,
     "metadata": {},
     "output_type": "execute_result"
    }
   ],
   "source": [
    "## Vector Stores\n",
    "from langchain_chroma import Chroma\n",
    "\n",
    "# All documents are going to get converted into vectors\n",
    "# Then it gets stored in the chroma db\n",
    "vectorstore = Chroma.from_documents(documents, embedding=embeddings)\n",
    "vectorstore"
   ]
  },
  {
   "cell_type": "code",
   "execution_count": 10,
   "id": "2defafab",
   "metadata": {},
   "outputs": [
    {
     "data": {
      "text/plain": [
       "[Document(id='dc35d53f-bf72-42ff-9570-7008f864503f', metadata={'source': 'mammal-pets-doc'}, page_content='Cats are independent pets that often enjoy their own space.'),\n",
       " Document(id='3754afc2-1a39-488e-932a-0fa4b823ed79', metadata={'source': 'mammal-pets-doc'}, page_content='Cats are independent pets that often enjoy their own space.')]"
      ]
     },
     "execution_count": 10,
     "metadata": {},
     "output_type": "execute_result"
    }
   ],
   "source": [
    "## Vectorstore Similarity Search\n",
    "\n",
    "vectorstore.similarity_search(\"cat\", k=2)"
   ]
  },
  {
   "cell_type": "code",
   "execution_count": 11,
   "id": "b6784bd3",
   "metadata": {},
   "outputs": [
    {
     "data": {
      "text/plain": [
       "[Document(id='dc35d53f-bf72-42ff-9570-7008f864503f', metadata={'source': 'mammal-pets-doc'}, page_content='Cats are independent pets that often enjoy their own space.'),\n",
       " Document(id='3754afc2-1a39-488e-932a-0fa4b823ed79', metadata={'source': 'mammal-pets-doc'}, page_content='Cats are independent pets that often enjoy their own space.')]"
      ]
     },
     "execution_count": 11,
     "metadata": {},
     "output_type": "execute_result"
    }
   ],
   "source": [
    "# Async query\n",
    "\n",
    "await vectorstore.asimilarity_search(\"cat\", k=2)"
   ]
  },
  {
   "cell_type": "code",
   "execution_count": 12,
   "id": "5396a598",
   "metadata": {},
   "outputs": [
    {
     "data": {
      "text/plain": [
       "[(Document(id='dc35d53f-bf72-42ff-9570-7008f864503f', metadata={'source': 'mammal-pets-doc'}, page_content='Cats are independent pets that often enjoy their own space.'),\n",
       "  0.9351058602333069),\n",
       " (Document(id='3754afc2-1a39-488e-932a-0fa4b823ed79', metadata={'source': 'mammal-pets-doc'}, page_content='Cats are independent pets that often enjoy their own space.'),\n",
       "  0.9351058602333069)]"
      ]
     },
     "execution_count": 12,
     "metadata": {},
     "output_type": "execute_result"
    }
   ],
   "source": [
    "# Here we get the scores\n",
    "\n",
    "vectorstore.similarity_search_with_score(\"cat\", k=2)"
   ]
  },
  {
   "cell_type": "markdown",
   "id": "54302c21",
   "metadata": {},
   "source": [
    "## Retrievers\n",
    "\n",
    "LangChain VectorStore objects do not subclass Runnable, and so cannot immediately be\n",
    "integrated into LangChain Expression Language chains\n",
    "\n",
    "LangChain Retrievers are Runnables, so they implement a standard set of methods (e.g.\n",
    "synchronos and asynchronous invoke and batch operations) and are designed to be incorporated\n",
    "into LCEL chains.\n",
    "\n",
    "We can create a simple version of this ourselves, withough subclassing retriever. I we choose what\n",
    "method we wish to use to retrieve deocuments, we can crea runnable easily. Below we will build one\n",
    "around the similarity_search method\n",
    "\n",
    "Essentially the code below creates a similarity search lambda function that returns the \n",
    "top result for each \"document\" in the list. In this case that is \"cat\" and \"dog\"."
   ]
  },
  {
   "cell_type": "code",
   "execution_count": 15,
   "id": "fcf8b006",
   "metadata": {},
   "outputs": [
    {
     "data": {
      "text/plain": [
       "[[Document(id='dc35d53f-bf72-42ff-9570-7008f864503f', metadata={'source': 'mammal-pets-doc'}, page_content='Cats are independent pets that often enjoy their own space.')],\n",
       " [Document(id='cfba619b-a861-4678-91bb-dd15ae3edc9f', metadata={'source': 'mammal-pets-doc'}, page_content='Dogs are great companions, known for their loyalty and friendliness.')]]"
      ]
     },
     "execution_count": 15,
     "metadata": {},
     "output_type": "execute_result"
    }
   ],
   "source": [
    "from typing import List\n",
    "from langchain_core.documents import Document\n",
    "from langchain_core.runnables import RunnableLambda\n",
    "\n",
    "retriever = RunnableLambda(vectorstore.similarity_search).bind(k=1)\n",
    "retriever.batch([\"cat\", \"dog\"])"
   ]
  },
  {
   "cell_type": "markdown",
   "id": "1616abfb",
   "metadata": {},
   "source": [
    "Vectorstores implement an as_retriever method that will generate a retriever, specifically\n",
    "a VectorStoreRetriever. These retrievers include specific search_type and search_kwargs attributes\n",
    "that identify what methods of the underlying vectorstore to call, and how to parameterize them.\n",
    "For instance, we can replicate the above with the following:"
   ]
  },
  {
   "cell_type": "code",
   "execution_count": 18,
   "id": "e50704d9",
   "metadata": {},
   "outputs": [
    {
     "data": {
      "text/plain": [
       "[[Document(id='dc35d53f-bf72-42ff-9570-7008f864503f', metadata={'source': 'mammal-pets-doc'}, page_content='Cats are independent pets that often enjoy their own space.')],\n",
       " [Document(id='cfba619b-a861-4678-91bb-dd15ae3edc9f', metadata={'source': 'mammal-pets-doc'}, page_content='Dogs are great companions, known for their loyalty and friendliness.')]]"
      ]
     },
     "execution_count": 18,
     "metadata": {},
     "output_type": "execute_result"
    }
   ],
   "source": [
    "# Here this is implemented using as_retriever\n",
    "retriever = vectorstore.as_retriever(\n",
    "    search_type=\"similarity\", \n",
    "    search_kwargs={\"k\": 1}\n",
    ")\n",
    "\n",
    "retriever.batch([\"cat\", \"dog\"])"
   ]
  },
  {
   "cell_type": "markdown",
   "id": "09fddda3",
   "metadata": {},
   "source": [
    "## Integrate it with the chain"
   ]
  },
  {
   "cell_type": "code",
   "execution_count": null,
   "id": "ba512bf8",
   "metadata": {},
   "outputs": [
    {
     "name": "stdout",
     "output_type": "stream",
     "text": [
      "content='According to the provided context, dogs are great companions, known for their loyalty and friendliness.' additional_kwargs={} response_metadata={'token_usage': {'completion_tokens': 20, 'prompt_tokens': 82, 'total_tokens': 102, 'completion_time': 0.040870778, 'prompt_time': 0.015243992, 'queue_time': 0.054140114, 'total_time': 0.05611477}, 'model_name': 'Llama3-70B-8192', 'system_fingerprint': 'fp_de9fa14705', 'service_tier': 'on_demand', 'finish_reason': 'stop', 'logprobs': None} id='run--3ab424a9-791a-44d6-84f3-240545433590-0' usage_metadata={'input_tokens': 82, 'output_tokens': 20, 'total_tokens': 102}\n"
     ]
    }
   ],
   "source": [
    "## RAG Chain\n",
    "from langchain_core.prompts import ChatPromptTemplate\n",
    "from langchain_core.runnables import RunnablePassthrough\n",
    "\n",
    "message =\"\"\"\n",
    "Answer this question using the provided contect only.\n",
    "\n",
    "{question}\n",
    "\n",
    "Context:\n",
    "{context}\n",
    "\"\"\"\n",
    "\n",
    "prompt = ChatPromptTemplate.from_messages([(\"human\", message)])\n",
    "\n",
    "rag_chain = {\"context\": retriever, \"question\": RunnablePassthrough()}|prompt|llm\n",
    "\n",
    "response=rag_chain.invoke(\"Tell me about dogs?\")\n",
    "print(response)"
   ]
  },
  {
   "cell_type": "code",
   "execution_count": null,
   "id": "935da125",
   "metadata": {},
   "outputs": [],
   "source": []
  }
 ],
 "metadata": {
  "kernelspec": {
   "display_name": "ai-bootcamp",
   "language": "python",
   "name": "python3"
  },
  "language_info": {
   "codemirror_mode": {
    "name": "ipython",
    "version": 3
   },
   "file_extension": ".py",
   "mimetype": "text/x-python",
   "name": "python",
   "nbconvert_exporter": "python",
   "pygments_lexer": "ipython3",
   "version": "3.10.13"
  }
 },
 "nbformat": 4,
 "nbformat_minor": 5
}
